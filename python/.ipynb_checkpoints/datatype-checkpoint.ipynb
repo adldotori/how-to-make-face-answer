{
 "cells": [
  {
   "cell_type": "code",
   "execution_count": 2,
   "metadata": {},
   "outputs": [],
   "source": [
    "vision = 4.0\n",
    "nlp = 3.5\n",
    "speech = 4.5"
   ]
  },
  {
   "cell_type": "code",
   "execution_count": 17,
   "metadata": {},
   "outputs": [
    {
     "name": "stdout",
     "output_type": "stream",
     "text": [
      "4.0\n",
      "[+] Stage1 Success!\n"
     ]
    }
   ],
   "source": [
    "# ----------------------------------------\n",
    "# TODO : Compute average of grade\n",
    "# avg = Sum of grade / N (N : count of grade)\n",
    "avg = (vision + nlp + speech) / 3\n",
    "print(avg)\n",
    "# ----------------------------------------\n",
    "\n",
    "if avg == 4.0:\n",
    "    print('[+] Stage1 Success!')\n",
    "else:\n",
    "    print('[-] Stage1 Fail...')"
   ]
  },
  {
   "cell_type": "code",
   "execution_count": 18,
   "metadata": {},
   "outputs": [
    {
     "name": "stdout",
     "output_type": "stream",
     "text": [
      "0.16666666666666666\n",
      "[+] Stage2 Success!\n"
     ]
    }
   ],
   "source": [
    "# ----------------------------------------\n",
    "# TODO : Compute variance of grade\n",
    "# var = Sum of (grade - avg)^2 / N (grade : vision, nlp ,speech)\n",
    "var = ((vision - avg)**2 + (nlp - avg)**2 + (speech - avg)**2) / 3\n",
    "print(var)\n",
    "# ----------------------------------------\n",
    "\n",
    "if var == 1/6:\n",
    "    print('[+] Stage2 Success!')\n",
    "else:\n",
    "    print('[-] Stage2 Fail...')"
   ]
  },
  {
   "cell_type": "code",
   "execution_count": 19,
   "metadata": {
    "tags": []
   },
   "outputs": [
    {
     "name": "stdout",
     "output_type": "stream",
     "text": [
      "vision's grade is A\n",
      "[+] Stage3 Success!\n"
     ]
    }
   ],
   "source": [
    "grade = 'A'\n",
    "subject = 'vision'\n",
    "\n",
    "# ----------------------------------------\n",
    "# TODO : Print subject's 5th character and print like this.\n",
    "# >>> vision's grade is A\n",
    "b = subject[4]\n",
    "string_grade = f'{subject}\\'s grade is {grade}'\n",
    "print(string_grade)\n",
    "# ----------------------------------------\n",
    "\n",
    "if b == 'o' and string_grade == 'vision\\'s grade is A':\n",
    "    print('[+] Stage3 Success!')\n",
    "else:\n",
    "    print('[-] Stage3 Fail...')"
   ]
  },
  {
   "cell_type": "code",
   "execution_count": 20,
   "metadata": {
    "tags": []
   },
   "outputs": [
    {
     "name": "stdout",
     "output_type": "stream",
     "text": [
      "<class 'str'> 6\n"
     ]
    }
   ],
   "source": [
    "print(type(subject), len(subject)) # <class 'str'> 6"
   ]
  },
  {
   "cell_type": "code",
   "execution_count": 21,
   "metadata": {
    "tags": []
   },
   "outputs": [
    {
     "name": "stdout",
     "output_type": "stream",
     "text": [
      "isio noisiv n\n",
      "[+] Stage4 Success!\n"
     ]
    }
   ],
   "source": [
    "subject = 'vision'\n",
    "\n",
    "# ----------------------------------------\n",
    "# TODO : Print 2nd to 5th characters of subject.\n",
    "#        Print reverse of subject.\n",
    "#        Print last character of subject.\n",
    "slice_subject = subject[1:5]\n",
    "reverse_subject = subject[::-1]\n",
    "last_subject = subject[-1]\n",
    "print(slice_subject, reverse_subject, last_subject)\n",
    "# ----------------------------------------\n",
    "\n",
    "if slice_subject == 'isio' and reverse_subject == 'noisiv' and last_subject == 'n':\n",
    "    print('[+] Stage4 Success!')\n",
    "else:\n",
    "    print('[-] Stage4 Fail...')"
   ]
  },
  {
   "cell_type": "code",
   "execution_count": 22,
   "metadata": {},
   "outputs": [
    {
     "name": "stdout",
     "output_type": "stream",
     "text": [
      "['vision', 'nlp', 'speech', 'recommend']\n",
      "[+] Stage5 Success!\n"
     ]
    }
   ],
   "source": [
    "subject = ['vision', 'nlp', 'speech']\n",
    "\n",
    "# ----------------------------------------\n",
    "# TODO : Append 'recommend' subject to subject list.\n",
    "subject.append('recommend')\n",
    "print(subject)\n",
    "# ----------------------------------------\n",
    "\n",
    "if subject == ['vision', 'nlp', 'speech', 'recommend']:\n",
    "    print('[+] Stage5 Success!')\n",
    "else:\n",
    "    print('[-] Stage5 Fail...')"
   ]
  },
  {
   "cell_type": "code",
   "execution_count": 23,
   "metadata": {},
   "outputs": [
    {
     "name": "stdout",
     "output_type": "stream",
     "text": [
      "['recommend', 'speech', 'nlp', 'vision']\n",
      "[+] Stage6 Success!\n"
     ]
    }
   ],
   "source": [
    "subject == ['vision', 'nlp', 'speech', 'recommend']\n",
    "\n",
    "# ----------------------------------------\n",
    "# TODO : Reverse the order of subject.\n",
    "subject = subject[::-1]\n",
    "print(subject)\n",
    "# ----------------------------------------\n",
    "\n",
    "if subject == ['recommend', 'speech', 'nlp', 'vision']:\n",
    "    print('[+] Stage6 Success!')\n",
    "else:\n",
    "    print('[-] Stage6 Fail...')"
   ]
  },
  {
   "cell_type": "code",
   "execution_count": 24,
   "metadata": {},
   "outputs": [
    {
     "name": "stdout",
     "output_type": "stream",
     "text": [
      "['recommend', 'audio&speech', 'nlp', 'vision']\n",
      "[+] Stage7 Success!\n"
     ]
    }
   ],
   "source": [
    "subject == ['recommend', 'speech', 'nlp', 'vision']\n",
    "\n",
    "# ----------------------------------------\n",
    "# TODO : Change second element to 'audio&speech'.\n",
    "subject[1] = 'audio&speech'\n",
    "print(subject)\n",
    "# ----------------------------------------\n",
    "\n",
    "if subject == ['recommend', 'audio&speech', 'nlp', 'vision']:\n",
    "    print('[+] Stage7 Success!')\n",
    "else:\n",
    "    print('[-] Stage7 Fail...')"
   ]
  },
  {
   "cell_type": "code",
   "execution_count": 25,
   "metadata": {},
   "outputs": [
    {
     "name": "stdout",
     "output_type": "stream",
     "text": [
      "{'audio&speech': 4.5, 'nlp': 3.5, 'vision': 4.0, 'recommend': 4.0}\n",
      "[+] Stage8 Success!\n"
     ]
    }
   ],
   "source": [
    "grade = {'audio&speech': 4.5,\n",
    "        'nlp': 3.5,\n",
    "        'vision': 4.0}\n",
    "\n",
    "# ----------------------------------------\n",
    "# TODO : Add 'recommend's grade 4.0.\n",
    "grade['recommend'] = 4.0\n",
    "print(grade)\n",
    "# ----------------------------------------\n",
    "\n",
    "if grade['recommend'] == 4.0:\n",
    "    print('[+] Stage8 Success!')\n",
    "else:\n",
    "    print('[-] Stage8 Fail...')"
   ]
  },
  {
   "cell_type": "code",
   "execution_count": 26,
   "metadata": {},
   "outputs": [
    {
     "name": "stdout",
     "output_type": "stream",
     "text": [
      "dict_keys(['audio&speech', 'nlp', 'vision', 'recommend'])\n",
      "dict_items([('audio&speech', 4.5), ('nlp', 3.5), ('vision', 4.0), ('recommend', 4.0)])\n",
      "[+] Stage9 Success!\n"
     ]
    }
   ],
   "source": [
    "grade = {'audio&speech': 4.5, 'nlp': 3.5, 'vision': 4.0, 'recommend': 4.0}\n",
    "\n",
    "# ----------------------------------------\n",
    "# TODO : Print key of grade.\n",
    "#        Print items of grade.\n",
    "keys = grade.keys()\n",
    "items = grade.items()\n",
    "print(keys)\n",
    "print(items)\n",
    "# ----------------------------------------\n",
    "\n",
    "if list(keys) == ['audio&speech', 'nlp', 'vision', 'recommend'] and list(items) == [('audio&speech', 4.5), ('nlp', 3.5), ('vision', 4.0), ('recommend', 4.0)]:\n",
    "    print('[+] Stage9 Success!')\n",
    "else:\n",
    "    print('[-] Stage9 Fail...')"
   ]
  }
 ],
 "metadata": {
  "kernelspec": {
   "display_name": "Python 3",
   "language": "python",
   "name": "python3"
  },
  "language_info": {
   "codemirror_mode": {
    "name": "ipython",
    "version": 3
   },
   "file_extension": ".py",
   "mimetype": "text/x-python",
   "name": "python",
   "nbconvert_exporter": "python",
   "pygments_lexer": "ipython3",
   "version": "3.7.7"
  }
 },
 "nbformat": 4,
 "nbformat_minor": 4
}
