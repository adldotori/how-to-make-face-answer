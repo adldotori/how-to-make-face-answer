{
 "cells": [
  {
   "cell_type": "code",
   "execution_count": 45,
   "metadata": {},
   "outputs": [
    {
     "name": "stdout",
     "output_type": "stream",
     "text": [
      "audio&speech nlp vision recommend \n",
      "[+] Stage1 Success!\n"
     ]
    }
   ],
   "source": [
    "subject = ['audio&speech', 'nlp', 'vision', 'recommend']\n",
    "all_subject_name = ''\n",
    "# ----------------------------------------\n",
    "# TODO : Concatenate all subject name.\n",
    "# >>> audio&speech nlp vision recommend \n",
    "for i in subject:\n",
    "    all_subject_name+= i+' '\n",
    "print(all_subject_name)\n",
    "# ----------------------------------------\n",
    "\n",
    "if all_subject_name == 'audio&speech nlp vision recommend ':\n",
    "    print('[+] Stage1 Success!')\n",
    "else:\n",
    "    print('[-] Stage1 Fail...')"
   ]
  },
  {
   "cell_type": "code",
   "execution_count": 46,
   "metadata": {},
   "outputs": [
    {
     "name": "stdout",
     "output_type": "stream",
     "text": [
      "4.0\n",
      "[+] Stage2 Success!\n"
     ]
    }
   ],
   "source": [
    "grade = [4.5, 3.5, 4.0, 4.0]\n",
    "avg = 0\n",
    "# ----------------------------------------\n",
    "# TODO : Compute average of grade. Use len() function.\n",
    "for i in grade:\n",
    "    avg += i\n",
    "avg /= len(grade)\n",
    "print(avg)\n",
    "# ----------------------------------------\n",
    "\n",
    "if avg == 4:\n",
    "    print('[+] Stage2 Success!')\n",
    "else:\n",
    "    print('[-] Stage2 Fail...')"
   ]
  },
  {
   "cell_type": "code",
   "execution_count": 47,
   "metadata": {},
   "outputs": [
    {
     "name": "stdout",
     "output_type": "stream",
     "text": [
      "[4.5, 4.5, 4.5, 4.5]\n",
      "[+] Stage3 Success!\n"
     ]
    }
   ],
   "source": [
    "grade = [4.5, 3.5, 4.0, 4.0]\n",
    "\n",
    "# ----------------------------------------\n",
    "# TODO : Change all grade to 4.5. Use range(), len() function.\n",
    "for i in range(len(grade)):\n",
    "    grade[i] = 4.5\n",
    "print(grade)\n",
    "# ----------------------------------------\n",
    "\n",
    "if grade == [4.5, 4.5, 4.5, 4.5]:\n",
    "    print('[+] Stage3 Success!')\n",
    "else:\n",
    "    print('[-] Stage3 Fail...')"
   ]
  },
  {
   "cell_type": "code",
   "execution_count": 48,
   "metadata": {},
   "outputs": [
    {
     "name": "stdout",
     "output_type": "stream",
     "text": [
      "audio&speech : 4.5\n",
      "nlp : 3.5\n",
      "vision : 4.0\n",
      "recommend : 4.0\n",
      "\n",
      "[+] Stage4 Success!\n"
     ]
    }
   ],
   "source": [
    "subject = ['audio&speech', 'nlp', 'vision', 'recommend']\n",
    "grade = [4.5, 3.5, 4.0, 4.0]\n",
    "\n",
    "# ----------------------------------------\n",
    "# TODO : Print like this. Use zip() function.\n",
    "# >>> audio&speech : 4.5\n",
    "# >>> nlp : 3.5\n",
    "# >>> vision : 4.0\n",
    "# >>> recommend : 4.0\n",
    "string = ''\n",
    "for i, j in zip(subject, grade):\n",
    "    string+= i+' : '+str(j)+'\\n'\n",
    "print(string)\n",
    "# ----------------------------------------\n",
    "\n",
    "if string == 'audio&speech : 4.5\\nnlp : 3.5\\nvision : 4.0\\nrecommend : 4.0\\n':\n",
    "    print('[+] Stage4 Success!')\n",
    "else:\n",
    "    print('[-] Stage4 Fail...')"
   ]
  },
  {
   "cell_type": "code",
   "execution_count": 49,
   "metadata": {},
   "outputs": [
    {
     "name": "stdout",
     "output_type": "stream",
     "text": [
      "4.0\n",
      "[+] Stage5 Success!\n"
     ]
    }
   ],
   "source": [
    "grade = {'audio&speech': 4.5, 'nlp': 3.5, 'vision': 4.0, 'recommend': 4.0}\n",
    "avg = 0\n",
    "\n",
    "# ----------------------------------------\n",
    "# TODO : Compute average of grade. Use values(), len() function.\n",
    "for i in grade.values():\n",
    "    avg += i\n",
    "avg /= len(grade)\n",
    "print(avg)\n",
    "# ----------------------------------------\n",
    "\n",
    "if  avg == 4:\n",
    "    print('[+] Stage5 Success!')\n",
    "else:\n",
    "    print('[-] Stage5 Fail...')"
   ]
  },
  {
   "cell_type": "code",
   "execution_count": 44,
   "metadata": {},
   "outputs": [
    {
     "name": "stdout",
     "output_type": "stream",
     "text": [
      "{'audio&speech': 3.5, 'nlp': 3.25, 'vision': 4.25, 'recommend': 4.25}\n",
      "[+] Stage6 Success!\n"
     ]
    }
   ],
   "source": [
    "# all_grade is grade of two students.\n",
    "all_grade = [{'audio&speech': 4.5, 'nlp': 3.5, 'vision': 4.0, 'recommend': 4.0}, {'audio&speech': 2.5, 'nlp': 3.0, 'vision': 4.5, 'recommend': 4.5}]\n",
    "avg_grade = {'audio&speech': 0, 'nlp': 0, 'vision': 0, 'recommend': 0}\n",
    "\n",
    "# ----------------------------------------\n",
    "# TODO : Compute average of each subject.\n",
    "# {'audio&speech':3.5, 'nlp':3.25, 'vision':4.25, 'recommend':4.25}\n",
    "for student in all_grade:\n",
    "    for grade in student.items():\n",
    "        avg_grade[grade[0]] += grade[1]/len(all_grade)\n",
    "print(avg_grade)\n",
    "# ----------------------------------------\n",
    "\n",
    "if str(avg_grade) == '{\\'audio&speech\\': 3.5, \\'nlp\\': 3.25, \\'vision\\': 4.25, \\'recommend\\': 4.25}':\n",
    "    print('[+] Stage6 Success!')\n",
    "else:\n",
    "    print('[-] Stage6 Fail...')"
   ]
  }
 ],
 "metadata": {
  "kernelspec": {
   "display_name": "Python 3",
   "language": "python",
   "name": "python3"
  },
  "language_info": {
   "codemirror_mode": {
    "name": "ipython",
    "version": 3
   },
   "file_extension": ".py",
   "mimetype": "text/x-python",
   "name": "python",
   "nbconvert_exporter": "python",
   "pygments_lexer": "ipython3",
   "version": "3.7.7"
  }
 },
 "nbformat": 4,
 "nbformat_minor": 4
}
