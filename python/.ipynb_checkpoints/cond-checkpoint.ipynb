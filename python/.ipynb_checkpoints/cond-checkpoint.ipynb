{
 "cells": [
  {
   "cell_type": "code",
   "execution_count": null,
   "metadata": {},
   "outputs": [],
   "source": [
    "intern_hope_salary = 300\n",
    "\n",
    "if intern_hope_salary <= 250:\n",
    "    print('OK!')\n",
    "else:\n",
    "    print('Sorry...')\n",
    "    \n",
    "# == , <= , < , > , >= , !=\n",
    "print('=' * 50)\n",
    "\n",
    "career = 3\n",
    "if career <= 1:\n",
    "    intern_offer_salary = 250\n",
    "elif career <= 3:\n",
    "    intern_offer_salary = 300\n",
    "elif career <= 5:\n",
    "    intern_offer_salary = 350\n",
    "else:\n",
    "    intern_offer_salary = 400\n",
    "print(intern_offer_salary)\n",
    "\n",
    "edu = 'univ'\n",
    "if career <= 1 and edu != 'univ':\n",
    "    intern_offer_salary = 250\n",
    "elif career <= 1 and edu == 'univ':\n",
    "    intern_offer_salary = 300\n",
    "print(intern_offer_salary)\n",
    "\n",
    "edu = 'phd'\n",
    "if career >= 3 or edu == 'phd':\n",
    "    intern_offer_salary = 350\n",
    "print(intern_offer_salary)\n",
    "\n",
    "edu = ''\n",
    "if edu:\n",
    "    print(edu)"
   ]
  }
 ],
 "metadata": {
  "kernelspec": {
   "display_name": "Python 3",
   "language": "python",
   "name": "python3"
  },
  "language_info": {
   "codemirror_mode": {
    "name": "ipython",
    "version": 3
   },
   "file_extension": ".py",
   "mimetype": "text/x-python",
   "name": "python",
   "nbconvert_exporter": "python",
   "pygments_lexer": "ipython3",
   "version": "3.7.7"
  }
 },
 "nbformat": 4,
 "nbformat_minor": 4
}
