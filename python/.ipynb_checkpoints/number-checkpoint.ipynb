{
 "cells": [
  {
   "cell_type": "code",
   "execution_count": 1,
   "metadata": {},
   "outputs": [],
   "source": [
    "database = 4.0\n",
    "os = 3.5\n",
    "network = 4.5"
   ]
  },
  {
   "cell_type": "code",
   "execution_count": 2,
   "metadata": {},
   "outputs": [
    {
     "name": "stdout",
     "output_type": "stream",
     "text": [
      "[+] Success!\n"
     ]
    }
   ],
   "source": [
    "# ----------------------------------------\n",
    "# TODO : Compute average of grade\n",
    "avg = (database + os + network) / 3\n",
    "# ----------------------------------------\n",
    "\n",
    "if avg == 4.0:\n",
    "    print('[+] Success!')\n",
    "else:\n",
    "    print('[-] Fail...')\n"
   ]
  },
  {
   "cell_type": "code",
   "execution_count": 5,
   "metadata": {},
   "outputs": [
    {
     "name": "stdout",
     "output_type": "stream",
     "text": [
      "[+] Success!\n"
     ]
    }
   ],
   "source": [
    "# ----------------------------------------\n",
    "# TODO : Compute variance of grade\n",
    "# var = Sum of (x_i - avg)^2 / N (x_i : database, os ,network)\n",
    "var = ((database - avg)**2 + (os - avg)**2 + (network - avg)**2) / 3\n",
    "# ----------------------------------------\n",
    "\n",
    "if var == 1/6:\n",
    "    print('[+] Success!')\n",
    "else:\n",
    "    print('[-] Fail...')"
   ]
  }
 ],
 "metadata": {
  "kernelspec": {
   "display_name": "Python 3",
   "language": "python",
   "name": "python3"
  },
  "language_info": {
   "codemirror_mode": {
    "name": "ipython",
    "version": 3
   },
   "file_extension": ".py",
   "mimetype": "text/x-python",
   "name": "python",
   "nbconvert_exporter": "python",
   "pygments_lexer": "ipython3",
   "version": "3.7.7"
  }
 },
 "nbformat": 4,
 "nbformat_minor": 4
}
